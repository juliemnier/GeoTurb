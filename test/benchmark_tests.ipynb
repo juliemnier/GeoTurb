{
 "cells": [
  {
   "cell_type": "markdown",
   "metadata": {},
   "source": [
    "### Benchmark : 2DNS code\n",
    "1. **Compare with matlab solver**\n",
    "2. **Scalability**\n",
    "3. **Timesteppers**\n"
   ]
  },
  {
   "cell_type": "code",
   "execution_count": null,
   "metadata": {},
   "outputs": [],
   "source": [
    "using FourierFlows\n",
    "using BenchmarkTools\n",
    "using CUDA\n",
    "include(\"../src/Equation_2DNS.jl\")\n",
    "using .Equation\n",
    "\n",
    "# load parameters\n",
    "include(\"namelist_benchmark.jl\") \n"
   ]
  },
  {
   "cell_type": "code",
   "execution_count": null,
   "metadata": {},
   "outputs": [],
   "source": []
  }
 ],
 "metadata": {
  "kernelspec": {
   "display_name": "Julia 1.10.1",
   "language": "julia",
   "name": "julia-1.10"
  },
  "language_info": {
   "file_extension": ".jl",
   "mimetype": "application/julia",
   "name": "julia",
   "version": "1.10.1"
  }
 },
 "nbformat": 4,
 "nbformat_minor": 2
}
